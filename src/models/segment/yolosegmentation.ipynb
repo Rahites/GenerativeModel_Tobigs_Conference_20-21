{
 "cells": [
  {
   "cell_type": "code",
   "execution_count": null,
   "metadata": {},
   "outputs": [],
   "source": []
  },
  {
   "cell_type": "markdown",
   "metadata": {},
   "source": [
    "https://docs.ultralytics.com/tasks/segment/#export"
   ]
  },
  {
   "cell_type": "code",
   "execution_count": 2,
   "metadata": {},
   "outputs": [
    {
     "name": "stdout",
     "output_type": "stream",
     "text": [
      "Requirement already satisfied: opencv-python in ./miniconda3/envs/diffusion/lib/python3.9/site-packages (4.10.0.84)\n",
      "Requirement already satisfied: ultralytics in ./miniconda3/envs/diffusion/lib/python3.9/site-packages (8.2.50)\n",
      "Requirement already satisfied: numpy>=1.17.0 in ./miniconda3/envs/diffusion/lib/python3.9/site-packages (from opencv-python) (1.26.4)\n",
      "Requirement already satisfied: matplotlib>=3.3.0 in ./miniconda3/envs/diffusion/lib/python3.9/site-packages (from ultralytics) (3.9.1)\n",
      "Requirement already satisfied: pillow>=7.1.2 in ./miniconda3/envs/diffusion/lib/python3.9/site-packages (from ultralytics) (10.3.0)\n",
      "Requirement already satisfied: pyyaml>=5.3.1 in ./miniconda3/envs/diffusion/lib/python3.9/site-packages (from ultralytics) (6.0.1)\n",
      "Requirement already satisfied: requests>=2.23.0 in ./miniconda3/envs/diffusion/lib/python3.9/site-packages (from ultralytics) (2.32.2)\n",
      "Requirement already satisfied: scipy>=1.4.1 in ./miniconda3/envs/diffusion/lib/python3.9/site-packages (from ultralytics) (1.13.1)\n",
      "Requirement already satisfied: torch>=1.8.0 in ./miniconda3/envs/diffusion/lib/python3.9/site-packages (from ultralytics) (2.3.1)\n",
      "Requirement already satisfied: torchvision>=0.9.0 in ./miniconda3/envs/diffusion/lib/python3.9/site-packages (from ultralytics) (0.18.1)\n",
      "Requirement already satisfied: tqdm>=4.64.0 in ./miniconda3/envs/diffusion/lib/python3.9/site-packages (from ultralytics) (4.66.4)\n",
      "Requirement already satisfied: psutil in ./miniconda3/envs/diffusion/lib/python3.9/site-packages (from ultralytics) (5.9.0)\n",
      "Requirement already satisfied: py-cpuinfo in ./miniconda3/envs/diffusion/lib/python3.9/site-packages (from ultralytics) (9.0.0)\n",
      "Requirement already satisfied: pandas>=1.1.4 in ./miniconda3/envs/diffusion/lib/python3.9/site-packages (from ultralytics) (2.2.2)\n",
      "Requirement already satisfied: seaborn>=0.11.0 in ./miniconda3/envs/diffusion/lib/python3.9/site-packages (from ultralytics) (0.13.2)\n",
      "Requirement already satisfied: ultralytics-thop>=2.0.0 in ./miniconda3/envs/diffusion/lib/python3.9/site-packages (from ultralytics) (2.0.0)\n",
      "Requirement already satisfied: contourpy>=1.0.1 in ./miniconda3/envs/diffusion/lib/python3.9/site-packages (from matplotlib>=3.3.0->ultralytics) (1.2.1)\n",
      "Requirement already satisfied: cycler>=0.10 in ./miniconda3/envs/diffusion/lib/python3.9/site-packages (from matplotlib>=3.3.0->ultralytics) (0.12.1)\n",
      "Requirement already satisfied: fonttools>=4.22.0 in ./miniconda3/envs/diffusion/lib/python3.9/site-packages (from matplotlib>=3.3.0->ultralytics) (4.53.1)\n",
      "Requirement already satisfied: kiwisolver>=1.3.1 in ./miniconda3/envs/diffusion/lib/python3.9/site-packages (from matplotlib>=3.3.0->ultralytics) (1.4.5)\n",
      "Requirement already satisfied: packaging>=20.0 in ./miniconda3/envs/diffusion/lib/python3.9/site-packages (from matplotlib>=3.3.0->ultralytics) (24.1)\n",
      "Requirement already satisfied: pyparsing>=2.3.1 in ./miniconda3/envs/diffusion/lib/python3.9/site-packages (from matplotlib>=3.3.0->ultralytics) (3.1.2)\n",
      "Requirement already satisfied: python-dateutil>=2.7 in ./miniconda3/envs/diffusion/lib/python3.9/site-packages (from matplotlib>=3.3.0->ultralytics) (2.9.0.post0)\n",
      "Requirement already satisfied: importlib-resources>=3.2.0 in ./miniconda3/envs/diffusion/lib/python3.9/site-packages (from matplotlib>=3.3.0->ultralytics) (6.4.0)\n",
      "Requirement already satisfied: pytz>=2020.1 in ./miniconda3/envs/diffusion/lib/python3.9/site-packages (from pandas>=1.1.4->ultralytics) (2024.1)\n",
      "Requirement already satisfied: tzdata>=2022.7 in ./miniconda3/envs/diffusion/lib/python3.9/site-packages (from pandas>=1.1.4->ultralytics) (2024.1)\n",
      "Requirement already satisfied: charset-normalizer<4,>=2 in ./miniconda3/envs/diffusion/lib/python3.9/site-packages (from requests>=2.23.0->ultralytics) (2.0.4)\n",
      "Requirement already satisfied: idna<4,>=2.5 in ./miniconda3/envs/diffusion/lib/python3.9/site-packages (from requests>=2.23.0->ultralytics) (3.7)\n",
      "Requirement already satisfied: urllib3<3,>=1.21.1 in ./miniconda3/envs/diffusion/lib/python3.9/site-packages (from requests>=2.23.0->ultralytics) (2.2.2)\n",
      "Requirement already satisfied: certifi>=2017.4.17 in ./miniconda3/envs/diffusion/lib/python3.9/site-packages (from requests>=2.23.0->ultralytics) (2024.6.2)\n",
      "Requirement already satisfied: filelock in ./miniconda3/envs/diffusion/lib/python3.9/site-packages (from torch>=1.8.0->ultralytics) (3.13.1)\n",
      "Requirement already satisfied: typing-extensions>=4.8.0 in ./miniconda3/envs/diffusion/lib/python3.9/site-packages (from torch>=1.8.0->ultralytics) (4.11.0)\n",
      "Requirement already satisfied: sympy in ./miniconda3/envs/diffusion/lib/python3.9/site-packages (from torch>=1.8.0->ultralytics) (1.12.1)\n",
      "Requirement already satisfied: networkx in ./miniconda3/envs/diffusion/lib/python3.9/site-packages (from torch>=1.8.0->ultralytics) (3.2.1)\n",
      "Requirement already satisfied: jinja2 in ./miniconda3/envs/diffusion/lib/python3.9/site-packages (from torch>=1.8.0->ultralytics) (3.1.4)\n",
      "Requirement already satisfied: fsspec in ./miniconda3/envs/diffusion/lib/python3.9/site-packages (from torch>=1.8.0->ultralytics) (2024.6.1)\n",
      "Requirement already satisfied: nvidia-cuda-nvrtc-cu12==12.1.105 in ./miniconda3/envs/diffusion/lib/python3.9/site-packages (from torch>=1.8.0->ultralytics) (12.1.105)\n",
      "Requirement already satisfied: nvidia-cuda-runtime-cu12==12.1.105 in ./miniconda3/envs/diffusion/lib/python3.9/site-packages (from torch>=1.8.0->ultralytics) (12.1.105)\n",
      "Requirement already satisfied: nvidia-cuda-cupti-cu12==12.1.105 in ./miniconda3/envs/diffusion/lib/python3.9/site-packages (from torch>=1.8.0->ultralytics) (12.1.105)\n",
      "Requirement already satisfied: nvidia-cudnn-cu12==8.9.2.26 in ./miniconda3/envs/diffusion/lib/python3.9/site-packages (from torch>=1.8.0->ultralytics) (8.9.2.26)\n",
      "Requirement already satisfied: nvidia-cublas-cu12==12.1.3.1 in ./miniconda3/envs/diffusion/lib/python3.9/site-packages (from torch>=1.8.0->ultralytics) (12.1.3.1)\n",
      "Requirement already satisfied: nvidia-cufft-cu12==11.0.2.54 in ./miniconda3/envs/diffusion/lib/python3.9/site-packages (from torch>=1.8.0->ultralytics) (11.0.2.54)\n",
      "Requirement already satisfied: nvidia-curand-cu12==10.3.2.106 in ./miniconda3/envs/diffusion/lib/python3.9/site-packages (from torch>=1.8.0->ultralytics) (10.3.2.106)\n",
      "Requirement already satisfied: nvidia-cusolver-cu12==11.4.5.107 in ./miniconda3/envs/diffusion/lib/python3.9/site-packages (from torch>=1.8.0->ultralytics) (11.4.5.107)\n",
      "Requirement already satisfied: nvidia-cusparse-cu12==12.1.0.106 in ./miniconda3/envs/diffusion/lib/python3.9/site-packages (from torch>=1.8.0->ultralytics) (12.1.0.106)\n",
      "Requirement already satisfied: nvidia-nccl-cu12==2.20.5 in ./miniconda3/envs/diffusion/lib/python3.9/site-packages (from torch>=1.8.0->ultralytics) (2.20.5)\n",
      "Requirement already satisfied: nvidia-nvtx-cu12==12.1.105 in ./miniconda3/envs/diffusion/lib/python3.9/site-packages (from torch>=1.8.0->ultralytics) (12.1.105)\n",
      "Requirement already satisfied: triton==2.3.1 in ./miniconda3/envs/diffusion/lib/python3.9/site-packages (from torch>=1.8.0->ultralytics) (2.3.1)\n",
      "Requirement already satisfied: nvidia-nvjitlink-cu12 in ./miniconda3/envs/diffusion/lib/python3.9/site-packages (from nvidia-cusolver-cu12==11.4.5.107->torch>=1.8.0->ultralytics) (12.5.82)\n",
      "Requirement already satisfied: zipp>=3.1.0 in ./miniconda3/envs/diffusion/lib/python3.9/site-packages (from importlib-resources>=3.2.0->matplotlib>=3.3.0->ultralytics) (3.19.2)\n",
      "Requirement already satisfied: six>=1.5 in ./miniconda3/envs/diffusion/lib/python3.9/site-packages (from python-dateutil>=2.7->matplotlib>=3.3.0->ultralytics) (1.16.0)\n",
      "Requirement already satisfied: MarkupSafe>=2.0 in ./miniconda3/envs/diffusion/lib/python3.9/site-packages (from jinja2->torch>=1.8.0->ultralytics) (2.1.3)\n",
      "Requirement already satisfied: mpmath<1.4.0,>=1.1.0 in ./miniconda3/envs/diffusion/lib/python3.9/site-packages (from sympy->torch>=1.8.0->ultralytics) (1.3.0)\n"
     ]
    }
   ],
   "source": [
    "!pip install --upgrade opencv-python ultralytics"
   ]
  },
  {
   "cell_type": "code",
   "execution_count": 1,
   "metadata": {},
   "outputs": [
    {
     "name": "stdout",
     "output_type": "stream",
     "text": [
      "/home2/kkms4641/GenerativeModel_Tobigs_Conference_20-21/data/solb/1_segmented.png\n"
     ]
    }
   ],
   "source": [
    "image_path = \"/home2/kkms4641/GenerativeModel_Tobigs_Conference_20-21/data/solb/1.png\"\n",
    "\n",
    "image_path[:-4]\n",
    "\n",
    "print(f\"{image_path[:-4]}\"+\"_segmented.png\")"
   ]
  },
  {
   "cell_type": "code",
   "execution_count": 13,
   "metadata": {},
   "outputs": [
    {
     "name": "stdout",
     "output_type": "stream",
     "text": [
      "Ultralytics YOLOv8.2.50 🚀 Python-3.9.19 torch-2.0.1+cu117 CUDA:0 (NVIDIA RTX A6000, 48577MiB)\n",
      "Setup complete ✅ (56 CPUs, 1007.5 GB RAM, 6.2/503.8 GB disk)\n",
      "\n",
      "image 1/1 /home2/kkms4641/GenerativeModel_Tobigs_Conference_20-21/data/solb/11.png: 640x640 1 dog, 14.9ms\n",
      "Speed: 1.9ms preprocess, 14.9ms inference, 1.3ms postprocess per image at shape (1, 3, 640, 640)\n",
      "Results saved to \u001b[1mruns/segment/predict27\u001b[0m\n",
      "Segmented image saved successfully at /home2/kkms4641/GenerativeModel_Tobigs_Conference_20-21/data/solb/11_segmented.png.\n"
     ]
    }
   ],
   "source": [
    "import cv2\n",
    "import numpy as np\n",
    "import ultralytics\n",
    "from ultralytics import YOLO\n",
    "\n",
    "# Check Ultralytics environment\n",
    "ultralytics.checks()\n",
    "\n",
    "# Load the YOLOv8 model\n",
    "model = YOLO('yolov8x-seg.pt')\n",
    "\n",
    "#image_path = \"/home2/kkms4641/\\\n",
    "#GenerativeModel_Tobigs_Conference_20-21/data/jaemin/KakaoTalk_20240709_235546515.jpg\"\n",
    "image_path = \"/home2/kkms4641/GenerativeModel_Tobigs_Conference_20-21/data/solb/11.png\"\n",
    "# Perform prediction on the image\n",
    "results = model.predict(source=image_path, save=True)\n",
    "\n",
    "# Extract the segmentation masks and classes\n",
    "masks = results[0].masks\n",
    "boxes = results[0].boxes\n",
    "\n",
    "\n",
    "# Check if masks and boxes exist\n",
    "if masks is not None and boxes is not None:\n",
    "    # Extract classes from the boxes\n",
    "    classes = boxes.cls.cpu().numpy()\n",
    "\n",
    "    # Specify the class index you want to keep (e.g., 1 for \"person\")\n",
    "    target_classes = [16, 21, 77]\n",
    "\n",
    "    # Create a blank image to store the result\n",
    "    image = cv2.imread(image_path)\n",
    "    height, width, _ = image.shape\n",
    "\n",
    "    result_image = np.zeros_like(image)\n",
    "\n",
    "    # Iterate through the masks and keep only the target class\n",
    "    for mask, cls in zip(masks.data, classes):\n",
    "        if cls in target_classes:\n",
    "            mask = mask.cpu().numpy().astype(np.uint8)\n",
    "            resized_mask = cv2.resize(mask, (width, height), interpolation=cv2.INTER_NEAREST)\n",
    "            result_image[resized_mask == 1] = image[resized_mask == 1]\n",
    "\n",
    "    # Save the result image\n",
    "    output_path = f\"{image_path[:-4]}\"+\"_segmented.png\"\n",
    "    cv2.imwrite(output_path, result_image)\n",
    "\n",
    "    print(f\"Segmented image saved successfully at {output_path}.\")\n",
    "else:\n",
    "    print(\"No masks or boxes found in the results.\")\n"
   ]
  },
  {
   "cell_type": "code",
   "execution_count": null,
   "metadata": {},
   "outputs": [],
   "source": []
  },
  {
   "cell_type": "code",
   "execution_count": null,
   "metadata": {},
   "outputs": [],
   "source": []
  }
 ],
 "metadata": {
  "kernelspec": {
   "display_name": "Python 3 (ipykernel)",
   "language": "python",
   "name": "python3"
  },
  "language_info": {
   "codemirror_mode": {
    "name": "ipython",
    "version": 3
   },
   "file_extension": ".py",
   "mimetype": "text/x-python",
   "name": "python",
   "nbconvert_exporter": "python",
   "pygments_lexer": "ipython3",
   "version": "3.9.19"
  }
 },
 "nbformat": 4,
 "nbformat_minor": 2
}
